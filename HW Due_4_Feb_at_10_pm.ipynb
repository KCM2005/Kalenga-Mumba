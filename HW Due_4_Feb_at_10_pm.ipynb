https://colab.research.google.com/drive/1lU5TU7IctZS01qgxC7qY5Qc1Jl9JgTV7#scrollTo=zAw2bmn-TjFJ&uniqifier=2
