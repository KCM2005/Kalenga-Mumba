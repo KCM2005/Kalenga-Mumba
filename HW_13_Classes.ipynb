{
  "nbformat": 4,
  "nbformat_minor": 0,
  "metadata": {
    "colab": {
      "provenance": [],
      "include_colab_link": true
    },
    "kernelspec": {
      "name": "python3",
      "display_name": "Python 3"
    },
    "language_info": {
      "name": "python"
    }
  },
  "cells": [
    {
      "cell_type": "markdown",
      "metadata": {
        "id": "view-in-github",
        "colab_type": "text"
      },
      "source": [
        "<a href=\"https://colab.research.google.com/github/KCM2005/Kalenga-Mumba/blob/main/HW_13_Classes.ipynb\" target=\"_parent\"><img src=\"https://colab.research.google.com/assets/colab-badge.svg\" alt=\"Open In Colab\"/></a>"
      ]
    },
    {
      "cell_type": "markdown",
      "source": [
        "## Assignment:  Classes\n",
        "### Due Sunday 28 April at 10pm"
      ],
      "metadata": {
        "id": "5Vy93BSp9Tum"
      }
    },
    {
      "cell_type": "markdown",
      "source": [
        "1.  Define a class called `Person` that has attributes `lastName`, `firstName`, `mother`, and `father`.  Both `mother` and `father` should have default value `unknown`.\n",
        "\n",
        "  Include a `__str__()` function that returns a string of the form '`firstName` `lastName`'.\n",
        "\n",
        "  Include a `__repr__()` function that returns a string that can be evaluated to recreate the `Person` object.\n",
        "\n"
      ],
      "metadata": {
        "id": "vcj5XQAI9Wsb"
      }
    },
    {
      "cell_type": "code",
      "source": [
        "class Person:\n",
        "  def __init__(self, lastName, firstName, mother='unknown', father='unknown'):\n",
        "    self.lastName = lastName\n",
        "    self.firstName = firstName\n",
        "    self.mother = mother\n",
        "    self.father = father\n",
        "\n",
        "  def __str__(self):\n",
        "    return f\"{self.first_name}, {self.last_name}\"\n",
        "\n",
        "  def __repr__(self):\n",
        "    return f\"Person('{self.lastName}', '{self.firstName}', '{self.mother}', '{self.father}')\""
      ],
      "metadata": {
        "id": "mjHDwHv3EpVe"
      },
      "execution_count": 56,
      "outputs": []
    },
    {
      "cell_type": "markdown",
      "source": [
        "Create a person (i.e., a `Person` object) called `p` with unknown parents.  (You will need to give your person a first and last name.) Check the type of `p`.  Include all inputs and outputs."
      ],
      "metadata": {
        "id": "-ppMsEIVHINl"
      }
    },
    {
      "cell_type": "code",
      "source": [
        "p = Person('Brown', 'James', 'unknown', 'unknown')\n",
        "p.firstName = 'James'\n",
        "p.lastName = 'Brown'\n",
        "print(p.firstName, p.lastName)\n",
        "print(type(p))"
      ],
      "metadata": {
        "id": "5bwid_6gHIBH",
        "colab": {
          "base_uri": "https://localhost:8080/"
        },
        "outputId": "0700eb3e-43ee-4398-d122-93d61c7236c3"
      },
      "execution_count": 57,
      "outputs": [
        {
          "output_type": "stream",
          "name": "stdout",
          "text": [
            "James Brown\n",
            "<class '__main__.Person'>\n"
          ]
        }
      ]
    },
    {
      "cell_type": "markdown",
      "source": [
        "Verify that your `__str__` and `__repr__` functions are doing what they are supposed to do.  Include all inputs and outputs."
      ],
      "metadata": {
        "id": "Z6zlUC3xRtal"
      }
    },
    {
      "cell_type": "code",
      "source": [
        "print(p.__str__())"
      ],
      "metadata": {
        "id": "jZO0dBQYRs-K",
        "colab": {
          "base_uri": "https://localhost:8080/"
        },
        "outputId": "967c84fd-6fc7-42df-9f72-4c134d902128"
      },
      "execution_count": null,
      "outputs": [
        {
          "output_type": "stream",
          "name": "stdout",
          "text": [
            "James Brown\n"
          ]
        }
      ]
    },
    {
      "cell_type": "code",
      "source": [
        "print(p.__repr__())"
      ],
      "metadata": {
        "colab": {
          "base_uri": "https://localhost:8080/"
        },
        "id": "wOjB0aSiEXXF",
        "outputId": "dc256a91-978a-42b9-c6a5-86c6997eb876"
      },
      "execution_count": 58,
      "outputs": [
        {
          "output_type": "stream",
          "name": "stdout",
          "text": [
            "Person('Brown', 'James', 'unknown', 'unknown')\n"
          ]
        }
      ]
    },
    {
      "cell_type": "markdown",
      "source": [
        "Suppose the mother of `p` has been found and is named Taylor Swift.  Create a new person named Taylor Swift, and make her the mother of `p`:\n",
        "\n",
        "```\n",
        "> p.mother\n",
        "'Taylor Swift'\n",
        "```"
      ],
      "metadata": {
        "id": "1mOAThQiHzoQ"
      }
    },
    {
      "cell_type": "code",
      "source": [
        "mother = Person('Swift', 'Taylor')\n",
        "p.mother = mother\n",
        "print(p.mother.firstName, p.mother.lastName)"
      ],
      "metadata": {
        "id": "NYbDOorpHymz",
        "colab": {
          "base_uri": "https://localhost:8080/"
        },
        "outputId": "00d90790-809c-4d02-f986-ec5099efb3fd"
      },
      "execution_count": 59,
      "outputs": [
        {
          "output_type": "stream",
          "name": "stdout",
          "text": [
            "Taylor Swift\n"
          ]
        }
      ]
    },
    {
      "cell_type": "markdown",
      "source": [
        "2.  Add some methods to your class.  Start by copying the `class` definition you already wrote.  Then, inside the `class` definition:\n",
        "\n",
        "  (a) Write a method called `unknownParent()` which returns `True` if any parent is 'unknown' and `False` otherwise.\n",
        "\n",
        "  (b) Write a method called `maternalGrandmother()` which returns the mother's mother.  If the mother is unknown, it should return 'unknown'.\n",
        "\n"
      ],
      "metadata": {
        "id": "1g1pcrmFHzGh"
      }
    },
    {
      "cell_type": "code",
      "source": [
        "class Person:\n",
        "  def __init__(self, lastName, firstName, mother='unknown', father='unknown'):\n",
        "    self.lastName = lastName\n",
        "    self.firstName = firstName\n",
        "    self.mother = mother\n",
        "    self.father = father\n",
        "\n",
        "  def __str__(self):\n",
        "    return f\"{self.firstName} {self.lastName}\"\n",
        "\n",
        "  def __repr__(self):\n",
        "    return f\"Person('{self.lastName}', '{self.firstName}', '{self.mother}', '{self.father}')\"\n",
        "\n",
        "  def __unknownParent__(self):\n",
        "    return self.mother == 'unknown' or self.father == 'unknown'\n",
        "\n",
        "  def __maternalGrandmother__(self):\n",
        "    if self.mother == 'unknown':\n",
        "      return 'unknown'\n",
        "    else:\n",
        "      return self.mother.mother"
      ],
      "metadata": {
        "id": "7mIxJGwwKTpv"
      },
      "execution_count": 60,
      "outputs": []
    },
    {
      "cell_type": "markdown",
      "source": [
        "Create enough `Person` objects to test whether your methods are working properly.  Show all your inputs and outputs.  It is up to you to demonstrate that you have thoroughly tested the code.  You may use additional code and/or text chunks if it helps."
      ],
      "metadata": {
        "id": "l9-4gxd8FxAQ"
      }
    },
    {
      "cell_type": "code",
      "source": [
        "person1 = Person('Garcia', 'Maria')"
      ],
      "metadata": {
        "id": "gX1qpcKzFwoZ"
      },
      "execution_count": 61,
      "outputs": []
    },
    {
      "cell_type": "code",
      "source": [
        "#Testing __str__ method\n",
        "print(person1.__str__())"
      ],
      "metadata": {
        "colab": {
          "base_uri": "https://localhost:8080/"
        },
        "id": "1vSfNNSqrsz7",
        "outputId": "2f2bb61d-701e-4069-fd5d-1e96d48172bc"
      },
      "execution_count": 62,
      "outputs": [
        {
          "output_type": "stream",
          "name": "stdout",
          "text": [
            "Maria Garcia\n"
          ]
        }
      ]
    },
    {
      "cell_type": "code",
      "source": [
        "#Testing __repr__ method\n",
        "print(person1.__repr__())"
      ],
      "metadata": {
        "colab": {
          "base_uri": "https://localhost:8080/"
        },
        "id": "MmImx0vXr3n0",
        "outputId": "eefafafc-494e-4126-f013-c325fe765e32"
      },
      "execution_count": 63,
      "outputs": [
        {
          "output_type": "stream",
          "name": "stdout",
          "text": [
            "Person('Garcia', 'Maria', 'unknown', 'unknown')\n"
          ]
        }
      ]
    },
    {
      "cell_type": "code",
      "source": [
        "#Testing __unknownParent() method\n",
        "print(person1.__unknownParent__())"
      ],
      "metadata": {
        "colab": {
          "base_uri": "https://localhost:8080/"
        },
        "id": "-6LUF-VxsW9P",
        "outputId": "f88db900-0050-4323-bc34-9fb8724eac3d"
      },
      "execution_count": 64,
      "outputs": [
        {
          "output_type": "stream",
          "name": "stdout",
          "text": [
            "True\n"
          ]
        }
      ]
    },
    {
      "cell_type": "code",
      "source": [
        "#Testing the __maternalGrandmother__ method\n",
        "print(person1.__maternalGrandmother__())"
      ],
      "metadata": {
        "colab": {
          "base_uri": "https://localhost:8080/"
        },
        "id": "t5ZX4PoO0pXk",
        "outputId": "886d81e4-c3b0-4045-e186-e98d30c6b51f"
      },
      "execution_count": 65,
      "outputs": [
        {
          "output_type": "stream",
          "name": "stdout",
          "text": [
            "unknown\n"
          ]
        }
      ]
    },
    {
      "cell_type": "code",
      "source": [
        "person2 = Person('Miller', 'David')"
      ],
      "metadata": {
        "id": "86mi3kkD0-W1"
      },
      "execution_count": 66,
      "outputs": []
    },
    {
      "cell_type": "code",
      "source": [
        "#Testing __str__ method\n",
        "print(person2.__str__())"
      ],
      "metadata": {
        "colab": {
          "base_uri": "https://localhost:8080/"
        },
        "id": "Hnp3IyAP2xWB",
        "outputId": "26c8e525-5442-44c8-c00c-4af2be473177"
      },
      "execution_count": 67,
      "outputs": [
        {
          "output_type": "stream",
          "name": "stdout",
          "text": [
            "David Miller\n"
          ]
        }
      ]
    },
    {
      "cell_type": "code",
      "source": [
        "#Testing __repr__ method\n",
        "mother = Person(\"Miller\", \"Mary\")\n",
        "person2.mother = mother\n",
        "father = Person(\"Miller\", \"Keith\")\n",
        "person2.father = father\n",
        "print(person2.__repr__())"
      ],
      "metadata": {
        "colab": {
          "base_uri": "https://localhost:8080/"
        },
        "id": "1F55ntht20Du",
        "outputId": "0184dbc0-314e-4da5-a6ab-20d1d936531c"
      },
      "execution_count": 68,
      "outputs": [
        {
          "output_type": "stream",
          "name": "stdout",
          "text": [
            "Person('Miller', 'David', 'Mary Miller', 'Keith Miller')\n"
          ]
        }
      ]
    },
    {
      "cell_type": "code",
      "source": [
        "#Testing __unknownParent() method\n",
        "print(person2.__unknownParent__())"
      ],
      "metadata": {
        "colab": {
          "base_uri": "https://localhost:8080/"
        },
        "id": "qGrQf7dU23Nc",
        "outputId": "1bc27dfc-d739-48d6-8390-f1a9c9bea4d2"
      },
      "execution_count": 69,
      "outputs": [
        {
          "output_type": "stream",
          "name": "stdout",
          "text": [
            "False\n"
          ]
        }
      ]
    },
    {
      "cell_type": "code",
      "source": [
        "#Testing the __maternalGrandmother__ method\n",
        "print(person2.__maternalGrandmother__())"
      ],
      "metadata": {
        "colab": {
          "base_uri": "https://localhost:8080/"
        },
        "id": "459AOBJl232j",
        "outputId": "4bc66b40-1b96-4f75-96a1-9aa3485f5b3e"
      },
      "execution_count": 70,
      "outputs": [
        {
          "output_type": "stream",
          "name": "stdout",
          "text": [
            "unknown\n"
          ]
        }
      ]
    },
    {
      "cell_type": "code",
      "source": [
        "person3 = Person('Bailey', 'Charles')"
      ],
      "metadata": {
        "id": "cfNzO-PA_UIJ"
      },
      "execution_count": 71,
      "outputs": []
    },
    {
      "cell_type": "code",
      "source": [
        "#Testing __str__ method\n",
        "print(person3.__str__())"
      ],
      "metadata": {
        "colab": {
          "base_uri": "https://localhost:8080/"
        },
        "id": "3FkdTeH__12z",
        "outputId": "70b7693d-cead-4811-fb71-7ee7f8b73c87"
      },
      "execution_count": 72,
      "outputs": [
        {
          "output_type": "stream",
          "name": "stdout",
          "text": [
            "Charles Bailey\n"
          ]
        }
      ]
    },
    {
      "cell_type": "code",
      "source": [
        "#Testing __repr__ method\n",
        "father = Person('Bailey', 'Edward')\n",
        "person3.father = father\n",
        "print(person3.__repr__())"
      ],
      "metadata": {
        "colab": {
          "base_uri": "https://localhost:8080/"
        },
        "id": "R-3EdReP_6wd",
        "outputId": "96214a3c-a4d2-4a4e-95e0-95d9f445181c"
      },
      "execution_count": 73,
      "outputs": [
        {
          "output_type": "stream",
          "name": "stdout",
          "text": [
            "Person('Bailey', 'Charles', 'unknown', 'Edward Bailey')\n"
          ]
        }
      ]
    },
    {
      "cell_type": "code",
      "source": [
        "#Testing __unknownParent() method\n",
        "print(person3.__unknownParent__())"
      ],
      "metadata": {
        "colab": {
          "base_uri": "https://localhost:8080/"
        },
        "id": "aY5ynh9_AXUt",
        "outputId": "c01d3c2c-fbd2-46b7-87ad-32b846c5c103"
      },
      "execution_count": 74,
      "outputs": [
        {
          "output_type": "stream",
          "name": "stdout",
          "text": [
            "True\n"
          ]
        }
      ]
    },
    {
      "cell_type": "code",
      "source": [
        "#Testing the __maternalGrandmother__ method\n",
        "print(person3.__maternalGrandmother__())"
      ],
      "metadata": {
        "colab": {
          "base_uri": "https://localhost:8080/"
        },
        "id": "P8UqHsIuARKX",
        "outputId": "cec66e31-11b6-4f0a-d20a-a0994cddeced"
      },
      "execution_count": 75,
      "outputs": [
        {
          "output_type": "stream",
          "name": "stdout",
          "text": [
            "unknown\n"
          ]
        }
      ]
    },
    {
      "cell_type": "code",
      "source": [
        "person4 = Person('Walker', 'Madison')"
      ],
      "metadata": {
        "id": "2YFWXohxAylr"
      },
      "execution_count": 76,
      "outputs": []
    },
    {
      "cell_type": "code",
      "source": [
        "#Testing __str__ method\n",
        "print(person4.__str__())"
      ],
      "metadata": {
        "colab": {
          "base_uri": "https://localhost:8080/"
        },
        "id": "EdBtip90BDn7",
        "outputId": "c28e113c-6e6d-4474-ddb3-bf4192984827"
      },
      "execution_count": 77,
      "outputs": [
        {
          "output_type": "stream",
          "name": "stdout",
          "text": [
            "Madison Walker\n"
          ]
        }
      ]
    },
    {
      "cell_type": "code",
      "source": [
        "#Testing __repr__ method\n",
        "mother = Person(\"Walker\", \"Jane\")\n",
        "person4.mother = mother\n",
        "print(person4.__repr__())"
      ],
      "metadata": {
        "colab": {
          "base_uri": "https://localhost:8080/"
        },
        "id": "rIV4vFiABGNy",
        "outputId": "3b265817-39fe-435b-d481-28213a451c2c"
      },
      "execution_count": 78,
      "outputs": [
        {
          "output_type": "stream",
          "name": "stdout",
          "text": [
            "Person('Walker', 'Madison', 'Jane Walker', 'unknown')\n"
          ]
        }
      ]
    },
    {
      "cell_type": "code",
      "source": [
        "#Testing __unknownParent() method\n",
        "print(person4.__unknownParent__())"
      ],
      "metadata": {
        "colab": {
          "base_uri": "https://localhost:8080/"
        },
        "id": "KGpr-D3CBQlw",
        "outputId": "763d5429-98f9-41aa-ceaa-eae1c0086346"
      },
      "execution_count": 79,
      "outputs": [
        {
          "output_type": "stream",
          "name": "stdout",
          "text": [
            "True\n"
          ]
        }
      ]
    },
    {
      "cell_type": "code",
      "source": [
        "#Testing the __maternalGrandmother__ method\n",
        "print(person4.__maternalGrandmother__())"
      ],
      "metadata": {
        "colab": {
          "base_uri": "https://localhost:8080/"
        },
        "id": "Oc5sBtQPBTZ0",
        "outputId": "37351a89-e8c4-4e75-9bec-e7b86a4b75f6"
      },
      "execution_count": 80,
      "outputs": [
        {
          "output_type": "stream",
          "name": "stdout",
          "text": [
            "unknown\n"
          ]
        }
      ]
    }
  ]
}