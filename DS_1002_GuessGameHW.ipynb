{
  "nbformat": 4,
  "nbformat_minor": 0,
  "metadata": {
    "colab": {
      "provenance": [],
      "authorship_tag": "ABX9TyMjQOOVXCvxe4o+MrD9ZMR2",
      "include_colab_link": true
    },
    "kernelspec": {
      "name": "python3",
      "display_name": "Python 3"
    },
    "language_info": {
      "name": "python"
    }
  },
  "cells": [
    {
      "cell_type": "markdown",
      "metadata": {
        "id": "view-in-github",
        "colab_type": "text"
      },
      "source": [
        "<a href=\"https://colab.research.google.com/github/KCM2005/Kalenga-Mumba/blob/main/DS_1002_GuessGameHW.ipynb\" target=\"_parent\"><img src=\"https://colab.research.google.com/assets/colab-badge.svg\" alt=\"Open In Colab\"/></a>"
      ]
    },
    {
      "cell_type": "code",
      "execution_count": 19,
      "metadata": {
        "colab": {
          "base_uri": "https://localhost:8080/"
        },
        "id": "hMWe2FBsekwy",
        "outputId": "979190de-de8d-441a-e9e3-15904dd6bc28"
      },
      "outputs": [
        {
          "output_type": "stream",
          "name": "stdout",
          "text": [
            "Enter a number: 75\n",
            "Too high\n",
            "Reenter number: 65\n",
            "Too high\n",
            "Reenter number: 70\n",
            "Too high\n",
            "Reenter number: 80\n",
            "Too high\n",
            "Reenter number: 95\n",
            "Too high\n",
            "Reenter number: 100\n",
            "Too low\n",
            "Reenter number: 99\n",
            "Too low\n",
            "Reenter number: 96\n",
            "Too high\n",
            "Reenter number: 97\n",
            "It took 8 guesses for the user to find the secret number inputed by the computer\n"
          ]
        }
      ],
      "source": [
        "import numpy as np\n",
        "computer_number = np.random.randint(0,100)\n",
        "user_guess = int(input(\"Enter a number: \"))\n",
        "gameOver = False\n",
        "guesses = 0\n",
        "\n",
        "while user_guess != computer_number and gameOver == False:\n",
        "  if(user_guess == computer_number):\n",
        "    print(\"You got it!\")\n",
        "    gameOver = True\n",
        "\n",
        "  elif(user_guess < computer_number):\n",
        "    print(\"Too high\")\n",
        "    user_guess = int(input(\"Reenter number: \"))\n",
        "    guesses += 1\n",
        "\n",
        "  else:\n",
        "    print(\"Too low\")\n",
        "    user_guess = int(input(\"Reenter number: \"))\n",
        "    guesses += 1\n",
        "\n",
        "print(\"It took\", guesses, \"guesses for the user to find the secret number inputed by the computer\")\n",
        "\n",
        "#It took me approximately an hour to complete this assignment\n"
      ]
    }
  ]
}