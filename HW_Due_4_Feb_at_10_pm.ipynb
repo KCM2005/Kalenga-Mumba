{
  "nbformat": 4,
  "nbformat_minor": 0,
  "metadata": {
    "colab": {
      "provenance": []
    },
    "kernelspec": {
      "name": "python3",
      "display_name": "Python 3"
    },
    "language_info": {
      "name": "python"
    }
  },
  "cells": [
    {
      "cell_type": "markdown",
      "source": [
        "## DS 1002 homework due Sunday Feb 4 at 10 pm\n"
      ],
      "metadata": {
        "id": "zAw2bmn-TjFJ"
      }
    },
    {
      "cell_type": "markdown",
      "source": [
        "\n",
        "The notebook from Wednesday's class is in my GitHib repository, including the little script we wrote at the end to find mangos in a list of fruit.  The file is called `MorePythonBasics.ipynb`.\n",
        "\n",
        "(By the way I wondered if the correct spelling was \"mangos\" or \"mangoes\" and I found [this](https://www.mango.org/blog-mangos-or-mangoes/)!  Who knew?  There's a National Mango Board!  And they're prepared to adjudicate this and other difficult mango-related questions.)\n",
        "\n",
        "\n"
      ],
      "metadata": {
        "id": "Cmf4xleCSWCu"
      }
    },
    {
      "cell_type": "markdown",
      "source": [
        "### Problem 1:  finding fruit\n",
        "\n",
        "Adapt the function we wrote in class so that it takes two arguments,\n",
        "\n",
        "`fruit` and `hungryfor` ,\n",
        "\n",
        "and then searches through the list `fruit` for the item `hungryfor`.  The line that calls the function should look like\n",
        "\n",
        "`find_fruit(food, hungryfor)`\n",
        "\n",
        "Make it print out the results in the same way, so for example if `food` is what we entered in class and `hungryfor = \"tomatoes\"` then the output will be\n",
        "\n",
        "```python\n",
        "No tomatoes here.\n",
        "No tomatoes here.\n",
        "No tomatoes here.\n",
        "No tomatoes here.\n",
        "No tomatoes here.\n",
        "```\n",
        "Test your code by changing the values of `food` and `hungryfor` and make sure the output is what you expect.  Show a few outputs, each in its own code chunk.\n",
        "\n"
      ],
      "metadata": {
        "id": "rJLyGryAThhp"
      }
    },
    {
      "cell_type": "code",
      "source": [
        "food = [\"apples\", \"oranges\", \"mangos\", \"bananas\", \"blueberries\"]\n",
        "\n",
        "def find_fruit(fruit, hungryfor):\n",
        "  for hungryfor in fruit:\n",
        "    if hungryfor == \"apples\":\n",
        "      print(\"I found apples\")\n",
        "    else:\n",
        "      print(\"No apples here\")"
      ],
      "metadata": {
        "id": "YXwLLFCt6H2f"
      },
      "execution_count": 93,
      "outputs": []
    },
    {
      "cell_type": "code",
      "source": [
        "find_fruit(food, hungryfor)"
      ],
      "metadata": {
        "id": "bYdqsfrh6KnE",
        "colab": {
          "base_uri": "https://localhost:8080/"
        },
        "outputId": "ca2e1644-ec4c-4b4e-8fab-cd69d51636d4"
      },
      "execution_count": 95,
      "outputs": [
        {
          "output_type": "stream",
          "name": "stdout",
          "text": [
            "I found apples\n",
            "No apples here\n",
            "No apples here\n",
            "No apples here\n",
            "No apples here\n"
          ]
        }
      ]
    },
    {
      "cell_type": "code",
      "source": [
        "def find_fruit(fruit, hungryfor):\n",
        "  for hungryfor in fruit:\n",
        "    if hungryfor == \"grapes\":\n",
        "      print(\"I found grapes\")\n",
        "    else:\n",
        "      print(\"No grapes here\")"
      ],
      "metadata": {
        "id": "6itBCBIJ771F"
      },
      "execution_count": 91,
      "outputs": []
    },
    {
      "cell_type": "code",
      "source": [
        "find_fruit(food, hungryfor)"
      ],
      "metadata": {
        "colab": {
          "base_uri": "https://localhost:8080/"
        },
        "id": "wo7IhHCj7931",
        "outputId": "2be8d6ba-907a-4e6a-f80c-2afc2f44321e"
      },
      "execution_count": 92,
      "outputs": [
        {
          "output_type": "stream",
          "name": "stdout",
          "text": [
            "No grapes here\n",
            "No grapes here\n",
            "No grapes here\n",
            "No grapes here\n",
            "No grapes here\n"
          ]
        }
      ]
    },
    {
      "cell_type": "code",
      "source": [
        "def find_fruit(fruit, hungryfor):\n",
        "  for hungryfor in fruit:\n",
        "    if hungryfor == \"bananas\":\n",
        "      print(\"I found bananas\")\n",
        "    else:\n",
        "      print(\"No bananas here\")"
      ],
      "metadata": {
        "id": "VI752pgQBEIf"
      },
      "execution_count": 89,
      "outputs": []
    },
    {
      "cell_type": "code",
      "source": [
        "find_fruit(food, hungryfor)"
      ],
      "metadata": {
        "colab": {
          "base_uri": "https://localhost:8080/"
        },
        "id": "53Y4RuQNBLH-",
        "outputId": "6c29357f-c3d0-41e8-9858-d2fb2ab9c5d3"
      },
      "execution_count": 90,
      "outputs": [
        {
          "output_type": "stream",
          "name": "stdout",
          "text": [
            "No bananas here\n",
            "No bananas here\n",
            "No bananas here\n",
            "I found bananas\n",
            "No bananas here\n"
          ]
        }
      ]
    },
    {
      "cell_type": "code",
      "source": [
        "def find_fruit(fruit, hungryfor):\n",
        "  for hungryfor in fruit:\n",
        "    if hungryfor == \"oranges\":\n",
        "      print(\"I found oranges\")\n",
        "    else:\n",
        "      print(\"No oranges here\")"
      ],
      "metadata": {
        "id": "U5n2RV3B25g4"
      },
      "execution_count": 86,
      "outputs": []
    },
    {
      "cell_type": "code",
      "source": [
        "find_fruit(food, hungryfor)"
      ],
      "metadata": {
        "colab": {
          "base_uri": "https://localhost:8080/"
        },
        "id": "ZQV2AQPa2-B-",
        "outputId": "f860619d-f403-4932-bd82-4fbcc478936e"
      },
      "execution_count": 87,
      "outputs": [
        {
          "output_type": "stream",
          "name": "stdout",
          "text": [
            "No oranges here\n",
            "I found oranges\n",
            "No oranges here\n",
            "No oranges here\n",
            "No oranges here\n"
          ]
        }
      ]
    },
    {
      "cell_type": "code",
      "source": [
        "def find_fruit(fruit, hungryfor):\n",
        "  for hungryfor in fruit:\n",
        "    if hungryfor == \"blueberries\":\n",
        "      print(\"I found blueberries\")\n",
        "    else:\n",
        "      print(\"No blueberries here\")"
      ],
      "metadata": {
        "id": "L4NJH_y-3cuw"
      },
      "execution_count": 100,
      "outputs": []
    },
    {
      "cell_type": "code",
      "source": [
        "find_fruit(food, hungryfor)"
      ],
      "metadata": {
        "colab": {
          "base_uri": "https://localhost:8080/"
        },
        "id": "URYMeBp73ht2",
        "outputId": "708941f4-6df6-444b-98b7-854a09a1c593"
      },
      "execution_count": 101,
      "outputs": [
        {
          "output_type": "stream",
          "name": "stdout",
          "text": [
            "No blueberries here\n",
            "No blueberries here\n",
            "No blueberries here\n",
            "No blueberries here\n",
            "I found blueberries\n"
          ]
        }
      ]
    },
    {
      "cell_type": "code",
      "source": [
        "def find_fruit(fruit, hungryfor):\n",
        "  for hungryfor in fruit:\n",
        "    if hungryfor == \"pineapple\":\n",
        "      print(\"I found pineapple\")\n",
        "    else:\n",
        "      print(\"No pineapple here\")"
      ],
      "metadata": {
        "id": "ByzxHwCl4LeU"
      },
      "execution_count": 105,
      "outputs": []
    },
    {
      "cell_type": "code",
      "source": [
        "find_fruit(food, hungryfor)"
      ],
      "metadata": {
        "colab": {
          "base_uri": "https://localhost:8080/"
        },
        "id": "TD_KWJ544MOX",
        "outputId": "3c4e94be-6149-45e1-ddb7-d42bdeb3480a"
      },
      "execution_count": 106,
      "outputs": [
        {
          "output_type": "stream",
          "name": "stdout",
          "text": [
            "No pineapple here\n",
            "No pineapple here\n",
            "No pineapple here\n",
            "No pineapple here\n",
            "No pineapple here\n"
          ]
        }
      ]
    },
    {
      "cell_type": "markdown",
      "source": [
        "#### Notes\n",
        "1. Once you have run a code chunk in the notebook, it will remember that it has been run.  You don't have to call the function in the same code chunk where the function is defined.  In other words, to call the function with new inputs you can simply make a new code chunk, change the inputs, and call the function.  *You don't have to retype the definition of the function each time.*\n",
        "\n",
        "2. Make sure you clean things up when you're done, so you don't include old code that doesn't work or old incorrect outputs.\n"
      ],
      "metadata": {
        "id": "AMp-a1ym6W7w"
      }
    },
    {
      "cell_type": "markdown",
      "source": [
        "### Problem 2:  the `input()` function\n",
        "\n",
        "(a) Programming gets way more fun when you start to interact with your own programs!  Here is a function that lets you start doing that.  Run the following code and see what happens:\n"
      ],
      "metadata": {
        "id": "R-s9cZ6GYWNX"
      }
    },
    {
      "cell_type": "code",
      "source": [
        "input()\n",
        "print(\"Hello there!\")"
      ],
      "metadata": {
        "id": "IEK8O2qNYkXn",
        "outputId": "e9b69a94-4bce-4e9e-9b66-e0d509a42c9d",
        "colab": {
          "base_uri": "https://localhost:8080/"
        }
      },
      "execution_count": null,
      "outputs": [
        {
          "output_type": "stream",
          "name": "stdout",
          "text": [
            "Hello\n",
            "Hello there!\n"
          ]
        }
      ]
    },
    {
      "cell_type": "markdown",
      "source": [
        "(b) As you just saw, the code waits for you to enter something before it continues.  If you want to actually use the input in the code, you should assign its value to a variable:"
      ],
      "metadata": {
        "id": "sktZu8wWzFF6"
      }
    },
    {
      "cell_type": "code",
      "source": [
        "message = input()\n",
        "print(message)"
      ],
      "metadata": {
        "id": "fMmBkzbyz9Ty",
        "outputId": "e96c680c-60b6-46a7-c740-e3220869da86",
        "colab": {
          "base_uri": "https://localhost:8080/"
        }
      },
      "execution_count": null,
      "outputs": [
        {
          "output_type": "stream",
          "name": "stdout",
          "text": [
            "eat\n",
            "eat\n"
          ]
        }
      ]
    },
    {
      "cell_type": "markdown",
      "source": [
        "(c) Now you can start interacting.  Write some code that asks the user what they are hungry for (using a print statement), and then takes the user input, and then runs the `find_fruit` function from the previous code block using the user input as the `hungryfor` variable.  Test your code, and then include a few different outputs that demonstrate that the code works."
      ],
      "metadata": {
        "id": "ny41z-dQYmjQ"
      }
    },
    {
      "cell_type": "code",
      "source": [
        "print(input(\"What are you hungry for: \"))"
      ],
      "metadata": {
        "id": "SKAVoAZ00xOx",
        "colab": {
          "base_uri": "https://localhost:8080/"
        },
        "outputId": "82c126fd-a6f6-4310-84ea-436ecd215f65"
      },
      "execution_count": 81,
      "outputs": [
        {
          "output_type": "stream",
          "name": "stdout",
          "text": [
            "What are you hungry for: oranges\n",
            "oranges\n"
          ]
        }
      ]
    },
    {
      "cell_type": "code",
      "source": [
        "find_fruit(food, hungryfor)"
      ],
      "metadata": {
        "colab": {
          "base_uri": "https://localhost:8080/"
        },
        "id": "Ftkvq4tsJIFm",
        "outputId": "a2a1a05e-a58a-4dae-b067-8a5e5c17514f"
      },
      "execution_count": 84,
      "outputs": [
        {
          "output_type": "stream",
          "name": "stdout",
          "text": [
            "No oranges here\n",
            "I found oranges\n",
            "No oranges here\n",
            "No oranges here\n",
            "No oranges here\n"
          ]
        }
      ]
    },
    {
      "cell_type": "code",
      "source": [
        "print(input(\"What are you hungry for: \"))"
      ],
      "metadata": {
        "colab": {
          "base_uri": "https://localhost:8080/"
        },
        "id": "OW_toYoLMnVa",
        "outputId": "cf961d70-13b9-4106-8bf0-6217826649ce"
      },
      "execution_count": 60,
      "outputs": [
        {
          "output_type": "stream",
          "name": "stdout",
          "text": [
            "What are you hungry for: blueberries\n",
            "blueberries\n"
          ]
        }
      ]
    },
    {
      "cell_type": "code",
      "source": [
        "find_fruit(food, hungryfor)"
      ],
      "metadata": {
        "colab": {
          "base_uri": "https://localhost:8080/"
        },
        "id": "rJ-jEi__MyTA",
        "outputId": "cdbdc30a-27cf-4fbd-93eb-700af9e77944"
      },
      "execution_count": 102,
      "outputs": [
        {
          "output_type": "stream",
          "name": "stdout",
          "text": [
            "No blueberries here\n",
            "No blueberries here\n",
            "No blueberries here\n",
            "No blueberries here\n",
            "I found blueberries\n"
          ]
        }
      ]
    },
    {
      "cell_type": "code",
      "source": [
        "print(input(\"What are you hungry for: \"))"
      ],
      "metadata": {
        "colab": {
          "base_uri": "https://localhost:8080/"
        },
        "id": "eDSu2_fO4C5X",
        "outputId": "ae9ba9ae-f90d-4eb4-c846-38263051c911"
      },
      "execution_count": 107,
      "outputs": [
        {
          "output_type": "stream",
          "name": "stdout",
          "text": [
            "What are you hungry for: pineapple\n",
            "pineapple\n"
          ]
        }
      ]
    },
    {
      "cell_type": "code",
      "source": [
        "find_fruit(food, hungryfor)"
      ],
      "metadata": {
        "colab": {
          "base_uri": "https://localhost:8080/"
        },
        "id": "RtMqxRQK4ZRm",
        "outputId": "6608df39-5afc-43a6-c90b-c09978d62584"
      },
      "execution_count": 108,
      "outputs": [
        {
          "output_type": "stream",
          "name": "stdout",
          "text": [
            "No pineapple here\n",
            "No pineapple here\n",
            "No pineapple here\n",
            "No pineapple here\n",
            "No pineapple here\n"
          ]
        }
      ]
    },
    {
      "cell_type": "markdown",
      "source": [
        "### Problem 3:  ratings  \n",
        "Write a piece of code which prompts a user with the question \"What is your rating? (1-10)\" and then asks for user input.  Let's say the input is 3.  Once the input is received, print out a message that says.\n",
        "\n",
        "\"Your rating is *** .\"\n",
        "\n",
        "Obviously, your program should print the number of stars corresponding to the input!  If the input is 5, it should print\n",
        "\n",
        "\"Your rating is ***** .\"\n",
        "\n",
        "Show at least two outputs of your code."
      ],
      "metadata": {
        "id": "5CWOlHBz0xoZ"
      }
    },
    {
      "cell_type": "code",
      "source": [
        "print(input(\"What is your rating? (1-10): \"))"
      ],
      "metadata": {
        "id": "MCWnTAUW2Gin",
        "colab": {
          "base_uri": "https://localhost:8080/"
        },
        "outputId": "e36cd9af-ac0a-41e6-e0f4-cee0c13b2ec5"
      },
      "execution_count": 116,
      "outputs": [
        {
          "output_type": "stream",
          "name": "stdout",
          "text": [
            "What is your rating? (1-10): 7\n",
            "7\n"
          ]
        }
      ]
    },
    {
      "cell_type": "code",
      "source": [
        "print(\"Your rating is *******.\")"
      ],
      "metadata": {
        "id": "nxm67oCk8Ukn",
        "colab": {
          "base_uri": "https://localhost:8080/"
        },
        "outputId": "d4b74772-b8fc-40f1-a23a-7da1e42166ca"
      },
      "execution_count": 118,
      "outputs": [
        {
          "output_type": "stream",
          "name": "stdout",
          "text": [
            "Your rating is *******.\n"
          ]
        }
      ]
    },
    {
      "cell_type": "markdown",
      "source": [
        "You do not have to do this as part of the assignment, but one thing to think about with any code that has **interactivity** is that you want to make it **robust**.  This means you should imagine someone is *trying* to break your code, and you should try to make it as indestructible as possible.\n",
        "\n",
        "What will happen to your code if someone enters 3.5?  Or -12?  Or \"nonsense\"?  Test it and see.  Think about how you might guard against errors.\n"
      ],
      "metadata": {
        "id": "VRfc9puT2yac"
      }
    }
  ]
}